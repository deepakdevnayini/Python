{
 "cells": [
  {
   "cell_type": "code",
   "execution_count": 3,
   "metadata": {
    "notebookRunGroups": {
     "groupValue": "1"
    }
   },
   "outputs": [
    {
     "name": "stdout",
     "output_type": "stream",
     "text": [
      "Sum of even numbers: 10\n"
     ]
    }
   ],
   "source": [
    "# Write a Python program that takes a list of integers as input and returns the sum of all the even numbers in the list. \n",
    "# The program should handle both positive and negative integers and should return 0 if there are no even numbers in the list.\n",
    "\n",
    "# Case - 1\n",
    "def sumofeven(numbers):\n",
    "    total = 0\n",
    "    for x in numbers:\n",
    "        if x % 2 == 0:\n",
    "            total += x\n",
    "    return total\n",
    "numbers = list(map(int, input(\"Enter a List of integers seperated by spaces:\").split()))\n",
    "print(\"Sum of even numbers:\", sumofeven(numbers))"
   ]
  },
  {
   "cell_type": "code",
   "execution_count": 4,
   "metadata": {},
   "outputs": [
    {
     "name": "stdout",
     "output_type": "stream",
     "text": [
      "Sum of even numbers: 0\n"
     ]
    }
   ],
   "source": [
    "# Case - 2\n",
    "def sumofeven(numbers):\n",
    "    total = 0\n",
    "    for x in numbers:\n",
    "        if x % 2 == 0:\n",
    "            total += x\n",
    "    return total\n",
    "numbers = list(map(int, input(\"Enter a List of integers seperated by spaces:\").split()))\n",
    "print(\"Sum of even numbers:\", sumofeven(numbers))"
   ]
  },
  {
   "cell_type": "code",
   "execution_count": 5,
   "metadata": {},
   "outputs": [
    {
     "name": "stdout",
     "output_type": "stream",
     "text": [
      "Sum of even numbers: -12\n"
     ]
    }
   ],
   "source": [
    "# Case - 3\n",
    "def sumofeven(numbers):\n",
    "    total = 0\n",
    "    for x in numbers:\n",
    "        if x % 2 == 0:\n",
    "            total += x\n",
    "    return total\n",
    "numbers = list(map(int, input(\"Enter a List of integers seperated by spaces:\").split()))\n",
    "print(\"Sum of even numbers:\", sumofeven(numbers))"
   ]
  },
  {
   "cell_type": "code",
   "execution_count": null,
   "metadata": {},
   "outputs": [],
   "source": []
  }
 ],
 "metadata": {
  "kernelspec": {
   "display_name": "Python 3",
   "language": "python",
   "name": "python3"
  },
  "language_info": {
   "codemirror_mode": {
    "name": "ipython",
    "version": 3
   },
   "file_extension": ".py",
   "mimetype": "text/x-python",
   "name": "python",
   "nbconvert_exporter": "python",
   "pygments_lexer": "ipython3",
   "version": "3.12.0"
  }
 },
 "nbformat": 4,
 "nbformat_minor": 2
}
