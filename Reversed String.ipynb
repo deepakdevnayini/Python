{
 "cells": [
  {
   "cell_type": "code",
   "execution_count": 5,
   "metadata": {},
   "outputs": [
    {
     "name": "stdout",
     "output_type": "stream",
     "text": [
      "Given String: Deepak Dev\n",
      "The Reversed string of Deepak Dev is: veD kapeeD\n"
     ]
    }
   ],
   "source": [
    "#Write a Python program that takes a string as input and returns the string reversed.\n",
    "string = str(input(\"Enter a string: \"))\n",
    "print(\"Given String:\",string)\n",
    "\n",
    "reversed_str = string[::-1]\n",
    "print(f\"The Reversed string of {string} is: {reversed_str}.\")"
   ]
  }
 ],
 "metadata": {
  "kernelspec": {
   "display_name": "Python 3",
   "language": "python",
   "name": "python3"
  },
  "language_info": {
   "codemirror_mode": {
    "name": "ipython",
    "version": 3
   },
   "file_extension": ".py",
   "mimetype": "text/x-python",
   "name": "python",
   "nbconvert_exporter": "python",
   "pygments_lexer": "ipython3",
   "version": "3.12.0"
  }
 },
 "nbformat": 4,
 "nbformat_minor": 2
}
