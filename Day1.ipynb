{
 "cells": [
  {
   "cell_type": "code",
   "execution_count": 8,
   "metadata": {},
   "outputs": [
    {
     "name": "stdout",
     "output_type": "stream",
     "text": [
      "Hello World\n"
     ]
    }
   ],
   "source": [
    "print(\"Hello World\")"
   ]
  },
  {
   "cell_type": "code",
   "execution_count": 11,
   "metadata": {},
   "outputs": [
    {
     "name": "stdout",
     "output_type": "stream",
     "text": [
      "My Name is Deepak, And im 19 Years Old.\n"
     ]
    }
   ],
   "source": [
    "x = \"Deepak\"\n",
    "y = \"19\"\n",
    "print(\"My Name is \" + x + \", And im \" + y + \" Years Old.\")"
   ]
  },
  {
   "cell_type": "code",
   "execution_count": 38,
   "metadata": {},
   "outputs": [
    {
     "name": "stdout",
     "output_type": "stream",
     "text": [
      "Hello! My Name is Deepak and im 19 Years Old.\n"
     ]
    }
   ],
   "source": [
    "# Entering the values using Input\n",
    "x = input(\"Enter your name:\")\n",
    "y = input(\"Enter your Age:\")\n",
    "print(\"Hello! My Name is \"+x+\" and im \"+y+\" Years Old.\")"
   ]
  },
  {
   "cell_type": "code",
   "execution_count": 1,
   "metadata": {},
   "outputs": [
    {
     "name": "stdout",
     "output_type": "stream",
     "text": [
      "1\n",
      "1\n",
      "2.8\n",
      "Deepak\n",
      "<class 'int'>\n",
      "<class 'str'>\n",
      "<class 'float'>\n",
      "<class 'str'>\n"
     ]
    }
   ],
   "source": [
    "x = 1    # int\n",
    "y = '1'  #string\n",
    "z = 2.8  # float\n",
    "a = \"Deepak\"  # string\n",
    "\n",
    "\n",
    "print(x)\n",
    "print(y)\n",
    "print(z)\n",
    "print(a)\n",
    "\n",
    "print(type(x))\n",
    "print(type(y))\n",
    "print(type(z))\n",
    "print(type(a))"
   ]
  },
  {
   "cell_type": "code",
   "execution_count": 36,
   "metadata": {},
   "outputs": [
    {
     "name": "stdout",
     "output_type": "stream",
     "text": [
      "1\n",
      "2\n",
      "3.86\n",
      "Deepak\n"
     ]
    }
   ],
   "source": [
    "#TypeCasting \n",
    "\n",
    "x = int(1.0)\n",
    "y = int(2.5)\n",
    "z = float(3.86)\n",
    "a = str(\"Deepak\")\n",
    "\n",
    "print(x)\n",
    "print(y)\n",
    "print(z) \n",
    "print(a)"
   ]
  },
  {
   "cell_type": "code",
   "execution_count": 17,
   "metadata": {},
   "outputs": [
    {
     "name": "stdout",
     "output_type": "stream",
     "text": [
      "30\n",
      "-10\n",
      "200\n",
      "0.5\n",
      "10\n"
     ]
    }
   ],
   "source": [
    "# ArithMetic Operators\n",
    "x = 10\n",
    "y = 20\n",
    "\n",
    "print(x+y) #Addition\n",
    "print(x-y) #Subtraction\n",
    "print(x*y) #Multiplication\n",
    "print(x/y) #Division\n",
    "print(x%y) #Modulus\n"
   ]
  },
  {
   "cell_type": "code",
   "execution_count": 20,
   "metadata": {},
   "outputs": [
    {
     "name": "stdout",
     "output_type": "stream",
     "text": [
      "100\n",
      "130\n",
      "100\n",
      "200\n",
      "40.0\n"
     ]
    }
   ],
   "source": [
    "# Assignment Operators\n",
    "z = 100\n",
    "print(z) # z = 100\n",
    "\n",
    "z += 30\n",
    "print(z) # Z = 130\n",
    "\n",
    "z -= 30\n",
    "print(z) # Z = 100\n",
    "\n",
    "z *= 2\n",
    "print(z) # Z = 200\n",
    "\n",
    "z /= 5\n",
    "print(z) # Z = 40.0\n"
   ]
  },
  {
   "cell_type": "code",
   "execution_count": 40,
   "metadata": {},
   "outputs": [
    {
     "name": "stdout",
     "output_type": "stream",
     "text": [
      "False\n",
      "True\n",
      "True\n",
      "False\n",
      "True\n",
      "False\n"
     ]
    }
   ],
   "source": [
    "#Comparision Operator\n",
    "x = 50\n",
    "y = 10\n",
    "\n",
    "print(x == y) #Equals to the Variables (Retruns False Because x is not equal to y)\n",
    "print(x != y) #Not Equals to the Variables (Retruns True Because x is not equal to y)\n",
    "print(x > y) #Greater than to the variable (Retruns True Because x is Greater than y)\n",
    "print(x < y) #Less than to the variables (Retruns False Because x is Lesser than y)\n",
    "print(x >= y) #Greater than or equal to the variable (Retruns True Because x is Greater/Equal to y)\n",
    "print(x <= y) #Less than or equal to the variable (Retruns False Because x is Lesser/Equal than y)"
   ]
  },
  {
   "cell_type": "code",
   "execution_count": 23,
   "metadata": {},
   "outputs": [
    {
     "name": "stdout",
     "output_type": "stream",
     "text": [
      "['Audi', 'BMW', 'Ford']\n",
      "('Apple, Samsung', 'Oneplus')\n",
      "{'HP', 'Lenovo', 'Dell'}\n",
      "{'Company Name': 'Ford', 'Model': 'Mustang GT', 'Established': '1964'}\n"
     ]
    }
   ],
   "source": [
    "#List, Tuple, Set, Dictionary\n",
    "\n",
    "mylist = [\"Audi\", \"BMW\", \"Ford\"]\n",
    "myTuple = (\"Apple, Samsung\", \"Oneplus\")\n",
    "mySet = {\"HP\",\"Lenovo\",\"Dell\"}\n",
    "myDictionary = {\"Company Name\" : \"Ford\", \n",
    "                \"Model\" : \"Mustang GT\", \n",
    "                \"Established\" : \"1964\"}\n",
    "\n",
    "print(mylist)\n",
    "print(myTuple)\n",
    "print(mySet)\n",
    "print(myDictionary)"
   ]
  },
  {
   "cell_type": "code",
   "execution_count": 39,
   "metadata": {},
   "outputs": [
    {
     "name": "stdout",
     "output_type": "stream",
     "text": [
      "Finding the length of the Entered Value: Nayini Deepak Dev Goud\n"
     ]
    },
    {
     "data": {
      "text/plain": [
       "22"
      ]
     },
     "execution_count": 39,
     "metadata": {},
     "output_type": "execute_result"
    }
   ],
   "source": [
    "#Length of the Variable\n",
    "name = input(\"Enter Your Full Name \")\n",
    "print(\"Finding the length of the Entered Value: \" + name)\n",
    "\n",
    "len(name)"
   ]
  },
  {
   "cell_type": "code",
   "execution_count": 53,
   "metadata": {},
   "outputs": [
    {
     "name": "stdout",
     "output_type": "stream",
     "text": [
      "70\n",
      "1030\n",
      "50.01\n"
     ]
    }
   ],
   "source": [
    "#Complex Problems\n",
    "x = 50\n",
    "y = 20\n",
    "\n",
    "print(x+y)\n",
    "print(x+y*x-y)\n",
    "print(x+y/(x*y+y*x))\n"
   ]
  },
  {
   "cell_type": "code",
   "execution_count": 64,
   "metadata": {},
   "outputs": [
    {
     "name": "stdout",
     "output_type": "stream",
     "text": [
      "Good Evening! Please Enter Your Name: \n",
      "Hello! Deepak Dev\n",
      "D\n",
      "e\n",
      "length of a string is 10\n"
     ]
    }
   ],
   "source": [
    "# Strings\n",
    "print(\"Good Evening! Please Enter Your Name: \") #basic string#using quotes inside a string\n",
    "name = str(input(\"Enter Your Name\"))#Entering String\n",
    "print(\"Hello! \"+name) #printing Entered String\n",
    "\n",
    "print(name[0]) #returns \"D\" Because of Position of the String Variable\n",
    "print(name[1]) #returns \"e\" Because of Position of the String Variable\n",
    "print(\"length of a string is\", len(name)) #returns length of a string\n",
    "\n"
   ]
  }
 ],
 "metadata": {
  "kernelspec": {
   "display_name": "Python 3",
   "language": "python",
   "name": "python3"
  },
  "language_info": {
   "codemirror_mode": {
    "name": "ipython",
    "version": 3
   },
   "file_extension": ".py",
   "mimetype": "text/x-python",
   "name": "python",
   "nbconvert_exporter": "python",
   "pygments_lexer": "ipython3",
   "version": "3.12.0"
  }
 },
 "nbformat": 4,
 "nbformat_minor": 2
}
