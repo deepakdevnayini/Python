{
 "cells": [
  {
   "cell_type": "code",
   "execution_count": 83,
   "metadata": {},
   "outputs": [
    {
     "name": "stdout",
     "output_type": "stream",
     "text": [
      "Age: 19\n",
      "Eligible to Vote.\n"
     ]
    }
   ],
   "source": [
    "#If-Else Condition\n",
    "#Identifying Age for Eligibility to Vote\n",
    "\n",
    "x = int(input(\"Enter Your Age:\"))\n",
    "print(\"Age:\",x)\n",
    "if (x >= 18):\n",
    "    print(\"Eligible to Vote.\")\n",
    "else:\n",
    "    print(\"Not Eligible to Vote.\")"
   ]
  },
  {
   "cell_type": "code",
   "execution_count": 1,
   "metadata": {},
   "outputs": [
    {
     "name": "stdout",
     "output_type": "stream",
     "text": [
      "Entered Number is -15\n",
      "The number is negative.\n"
     ]
    }
   ],
   "source": [
    "#Nested if-else Condition\n",
    "#Identifying Number Whether Integer is Positive, Negetive, Zero\n",
    "\n",
    "num = int(input(\"Enter any integer:\"))\n",
    "print(\"Entered Number is\",num)\n",
    "if num > 0:\n",
    "    print(\"The number is positive.\")\n",
    "else:\n",
    "    if num < 0:\n",
    "        print(\"The number is negative.\")\n",
    "    else:\n",
    "        print(\"The number is zero.\")"
   ]
  },
  {
   "cell_type": "code",
   "execution_count": null,
   "metadata": {},
   "outputs": [
    {
     "name": "stdout",
     "output_type": "stream",
     "text": [
      "Username: admin\n",
      "Password: password\n",
      "Login successful! Welcome, admin.\n"
     ]
    }
   ],
   "source": [
    "#el-if Condition\n",
    "#Using username, password to login the portal if the user kept the username as \"admin\" and password as \"password\"\n",
    "#if the password is weak such as \"12345\" it returns as \"Weak password, Please reset your Password\"\n",
    "\n",
    "username = str(input(\"Enter Username:\"))\n",
    "password = str(input(\"Enter Password:\"))\n",
    "print(\"Username:\",username)\n",
    "print(\"Password:\",password)\n",
    "if username == \"admin\":\n",
    "    if password == \"password\":\n",
    "        print(\"Login successful! Welcome, admin.\")\n",
    "    elif password == \"12345\":\n",
    "        print(\"Weak password, Please reset your Password.\")\n",
    "    else:\n",
    "        print(\"Incorrect password. Please try again.\")"
   ]
  },
  {
   "cell_type": "code",
   "execution_count": null,
   "metadata": {},
   "outputs": [
    {
     "name": "stdout",
     "output_type": "stream",
     "text": [
      "String: Kosalco\n",
      "K\n",
      "o\n",
      "s\n",
      "a\n",
      "l\n",
      "c\n",
      "o\n"
     ]
    }
   ],
   "source": [
    "#For Loops\n",
    "x = str(input(\"Enter the name:\"))\n",
    "print(\"String:\",x)\n",
    "for i in x:\n",
    "    print(i)"
   ]
  },
  {
   "cell_type": "code",
   "execution_count": null,
   "metadata": {},
   "outputs": [
    {
     "name": "stdout",
     "output_type": "stream",
     "text": [
      "[1, 2, 3, 4, 5]\n",
      "Total sum in the list: 15\n"
     ]
    }
   ],
   "source": [
    "#Sum of the Numbers with loop in a list\n",
    "numbers = [1, 2, 3, 4, 5]\n",
    "total = 0\n",
    "\n",
    "for num in numbers:\n",
    "    total += num\n",
    "print(numbers)\n",
    "print(\"Total sum in the list:\", total)"
   ]
  },
  {
   "cell_type": "code",
   "execution_count": null,
   "metadata": {},
   "outputs": [
    {
     "name": "stdout",
     "output_type": "stream",
     "text": [
      "* \n",
      "* * \n",
      "* * * \n",
      "* * * * \n",
      "* * * * * \n"
     ]
    }
   ],
   "source": [
    "#Right Triangle star prints \n",
    "for i in range(5):\n",
    "    for j in range(0,i+1):\n",
    "        print(\"*\", end=\" \")\n",
    "    print()\n"
   ]
  },
  {
   "cell_type": "code",
   "execution_count": null,
   "metadata": {},
   "outputs": [
    {
     "name": "stdout",
     "output_type": "stream",
     "text": [
      "[3, 6, 2, 8, 4, 10]\n",
      "The largest number is: 10\n"
     ]
    }
   ],
   "source": [
    "#Finding the largest number in a set using for-loop\n",
    "num = [3, 6, 2, 8, 4, 10]\n",
    "largest = num[0]\n",
    "\n",
    "for i in num:\n",
    "    if i > largest:\n",
    "        largest = i\n",
    "print(num)\n",
    "print(\"The largest number is:\", largest)\n"
   ]
  },
  {
   "cell_type": "code",
   "execution_count": null,
   "metadata": {},
   "outputs": [
    {
     "name": "stdout",
     "output_type": "stream",
     "text": [
      "Printing numbers from 1-10:\n",
      "1\n",
      "2\n",
      "3\n",
      "4\n",
      "Skipping the number '5'\n",
      "6\n",
      "7\n",
      "8\n",
      "9\n",
      "10\n"
     ]
    }
   ],
   "source": [
    "#Continue Statement in for-loop\n",
    "#The Statement will skips the iteration when the condition occurs.\n",
    "print(\"Printing numbers from 1-10:\")\n",
    "for i in range(1, 11):\n",
    "    if i == 5:\n",
    "        print(\"Skipping the number '5'\")\n",
    "        continue\n",
    "    print(i)\n"
   ]
  },
  {
   "cell_type": "code",
   "execution_count": null,
   "metadata": {},
   "outputs": [
    {
     "name": "stdout",
     "output_type": "stream",
     "text": [
      "Printing the Numbers from 1-10:\n",
      "1\n",
      "2\n",
      "3\n",
      "4\n",
      "Breaking the loop at i = 5\n"
     ]
    }
   ],
   "source": [
    "#Break Statement in for-loop\n",
    "#The Statement will Breaks the iteration when the condition occurs.\n",
    "print(\"Printing the Numbers from 1-10:\")\n",
    "for i in range(1, 11):\n",
    "    if i == 5:\n",
    "        print(\"Breaking the loop at i =\", i)\n",
    "        break\n",
    "    print(i)\n"
   ]
  },
  {
   "cell_type": "code",
   "execution_count": null,
   "metadata": {},
   "outputs": [
    {
     "name": "stdout",
     "output_type": "stream",
     "text": [
      "Alice has a grade of 85\n",
      "Bob has a grade of 92\n",
      "Charlie has a grade of 78\n"
     ]
    }
   ],
   "source": [
    "#Iterating the Dictonary Using for-loop\n",
    "grades = {'Alice': 85, 'Bob': 92, 'Charlie': 78}\n",
    "\n",
    "for student, grade in grades.items():\n",
    "    print(student,\"has a grade of\",grade)\n"
   ]
  },
  {
   "cell_type": "code",
   "execution_count": 6,
   "metadata": {},
   "outputs": [
    {
     "name": "stdout",
     "output_type": "stream",
     "text": [
      "Deepak Dev\n",
      "Deepak Kumar\n",
      "Raj Dev\n",
      "Raj Kumar\n"
     ]
    }
   ],
   "source": [
    "#Nested For Loop\n",
    "x = [\"Deepak\", \"Raj\"]\n",
    "y = [\"Dev\", \"Kumar\"]\n",
    "\n",
    "for i in x:\n",
    "    for j in y:\n",
    "        print(i,j)"
   ]
  },
  {
   "cell_type": "code",
   "execution_count": 27,
   "metadata": {},
   "outputs": [
    {
     "name": "stdout",
     "output_type": "stream",
     "text": [
      "Multiplication table for 4:\n",
      "4 x 1 = 4\n",
      "4 x 2 = 8\n",
      "4 x 3 = 12\n",
      "4 x 4 = 16\n",
      "4 x 5 = 20\n",
      "4 x 6 = 24\n",
      "4 x 7 = 28\n",
      "4 x 8 = 32\n",
      "4 x 9 = 36\n",
      "4 x 10 = 40\n"
     ]
    }
   ],
   "source": [
    "number = int(input(\"Enter the number for which you want the multiplication table: \"))\n",
    "start = 1\n",
    "end = 10\n",
    "\n",
    "print(f\"Multiplication table for {number}:\")\n",
    "for i in range(start, end + 1):\n",
    "    result = number * i\n",
    "    print(f\"{number} x {i} = {result}\")"
   ]
  }
 ],
 "metadata": {
  "kernelspec": {
   "display_name": "Python 3",
   "language": "python",
   "name": "python3"
  },
  "language_info": {
   "codemirror_mode": {
    "name": "ipython",
    "version": 3
   },
   "file_extension": ".py",
   "mimetype": "text/x-python",
   "name": "python",
   "nbconvert_exporter": "python",
   "pygments_lexer": "ipython3",
   "version": "3.12.0"
  }
 },
 "nbformat": 4,
 "nbformat_minor": 2
}
