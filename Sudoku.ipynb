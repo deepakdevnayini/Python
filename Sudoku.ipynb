{
 "cells": [
  {
   "cell_type": "code",
   "execution_count": 3,
   "metadata": {},
   "outputs": [
    {
     "name": "stdout",
     "output_type": "stream",
     "text": [
      "Solved Sudoku:\n",
      "[5, 3, 4, 6, 7, 8, 9, 1, 2]\n",
      "[6, 7, 2, 1, 9, 5, 3, 4, 8]\n",
      "[1, 9, 8, 3, 4, 2, 5, 6, 7]\n",
      "[8, 5, 9, 7, 6, 1, 4, 2, 3]\n",
      "[4, 2, 6, 8, 5, 3, 7, 9, 1]\n",
      "[7, 1, 3, 9, 2, 4, 8, 5, 6]\n",
      "[9, 6, 1, 5, 3, 7, 2, 8, 4]\n",
      "[2, 8, 7, 4, 1, 9, 6, 3, 5]\n",
      "[3, 4, 5, 2, 8, 6, 1, 7, 9]\n"
     ]
    }
   ],
   "source": [
    "def solve_sudoku(board):\n",
    "    if not board:\n",
    "        return False\n",
    "\n",
    "    def is_valid(board, row, col, num):\n",
    "\n",
    "        for c in range(9):\n",
    "            if board[row][c] == num:\n",
    "                return False\n",
    "\n",
    "        for r in range(9):\n",
    "            if board[r][col] == num:\n",
    "                return False\n",
    "\n",
    "        start_row, start_col = 3 * (row // 3), 3 * (col // 3)\n",
    "        for r in range(start_row, start_row + 3):\n",
    "            for c in range(start_col, start_col + 3):\n",
    "                if board[r][c] == num:\n",
    "                    return False\n",
    "        return True\n",
    "\n",
    "    def solve(board):\n",
    "        for row in range(9):\n",
    "            for col in range(9):\n",
    "                if board[row][col] == 0:\n",
    "                    for num in range(1, 10):\n",
    "                        if is_valid(board, row, col, num):\n",
    "                            board[row][col] = num\n",
    "                            if solve(board):\n",
    "                                return True\n",
    "                            board[row][col] = 0\n",
    "                    return False\n",
    "        return True\n",
    "    \n",
    "    solve(board)\n",
    "    return board\n",
    "\n",
    "# Example usage:\n",
    "if __name__ == \"__main__\":\n",
    "    sudoku_grid = [\n",
    "        [5, 3, 0, 0, 7, 0, 0, 0, 0],\n",
    "        [6, 0, 0, 1, 9, 5, 0, 0, 0],\n",
    "        [0, 9, 8, 0, 0, 0, 0, 6, 0],\n",
    "        [8, 0, 0, 0, 6, 0, 0, 0, 3],\n",
    "        [4, 0, 0, 8, 0, 3, 0, 0, 1],\n",
    "        [7, 0, 0, 0, 2, 0, 0, 0, 6],\n",
    "        [0, 6, 0, 0, 0, 0, 2, 8, 0],\n",
    "        [0, 0, 0, 4, 1, 9, 0, 0, 5],\n",
    "        [0, 0, 0, 0, 8, 0, 0, 7, 9]\n",
    "    ]\n",
    "    \n",
    "    solved_sudoku = solve_sudoku(sudoku_grid)\n",
    "    \n",
    "    print(\"Solved Sudoku:\")\n",
    "    for row in solved_sudoku:\n",
    "        print(row)"
   ]
  }
 ],
 "metadata": {
  "kernelspec": {
   "display_name": "Python 3",
   "language": "python",
   "name": "python3"
  },
  "language_info": {
   "codemirror_mode": {
    "name": "ipython",
    "version": 3
   },
   "file_extension": ".py",
   "mimetype": "text/x-python",
   "name": "python",
   "nbconvert_exporter": "python",
   "pygments_lexer": "ipython3",
   "version": "3.12.0"
  }
 },
 "nbformat": 4,
 "nbformat_minor": 2
}
